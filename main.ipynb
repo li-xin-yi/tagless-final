{
 "cells": [
  {
   "cell_type": "code",
   "execution_count": 1,
   "metadata": {
    "ExecuteTime": {
     "end_time": "2020-08-22T01:51:10.574388Z",
     "start_time": "2020-08-22T01:51:10.902Z"
    }
   },
   "outputs": [
    {
     "data": {
      "text/html": [
       "<style>/* Styles used for the Hoogle display in the pager */\n",
       ".hoogle-doc {\n",
       "display: block;\n",
       "padding-bottom: 1.3em;\n",
       "padding-left: 0.4em;\n",
       "}\n",
       ".hoogle-code {\n",
       "display: block;\n",
       "font-family: monospace;\n",
       "white-space: pre;\n",
       "}\n",
       ".hoogle-text {\n",
       "display: block;\n",
       "}\n",
       ".hoogle-name {\n",
       "color: green;\n",
       "font-weight: bold;\n",
       "}\n",
       ".hoogle-head {\n",
       "font-weight: bold;\n",
       "}\n",
       ".hoogle-sub {\n",
       "display: block;\n",
       "margin-left: 0.4em;\n",
       "}\n",
       ".hoogle-package {\n",
       "font-weight: bold;\n",
       "font-style: italic;\n",
       "}\n",
       ".hoogle-module {\n",
       "font-weight: bold;\n",
       "}\n",
       ".hoogle-class {\n",
       "font-weight: bold;\n",
       "}\n",
       ".get-type {\n",
       "color: green;\n",
       "font-weight: bold;\n",
       "font-family: monospace;\n",
       "display: block;\n",
       "white-space: pre-wrap;\n",
       "}\n",
       ".show-type {\n",
       "color: green;\n",
       "font-weight: bold;\n",
       "font-family: monospace;\n",
       "margin-left: 1em;\n",
       "}\n",
       ".mono {\n",
       "font-family: monospace;\n",
       "display: block;\n",
       "}\n",
       ".err-msg {\n",
       "color: red;\n",
       "font-style: italic;\n",
       "font-family: monospace;\n",
       "white-space: pre;\n",
       "display: block;\n",
       "}\n",
       "#unshowable {\n",
       "color: red;\n",
       "font-weight: bold;\n",
       "}\n",
       ".err-msg.in.collapse {\n",
       "padding-top: 0.7em;\n",
       "}\n",
       ".highlight-code {\n",
       "white-space: pre;\n",
       "font-family: monospace;\n",
       "}\n",
       ".suggestion-warning { \n",
       "font-weight: bold;\n",
       "color: rgb(200, 130, 0);\n",
       "}\n",
       ".suggestion-error { \n",
       "font-weight: bold;\n",
       "color: red;\n",
       "}\n",
       ".suggestion-name {\n",
       "font-weight: bold;\n",
       "}\n",
       "</style><div class=\"suggestion-name\" style=\"clear:both;\">Unused LANGUAGE pragma</div><div class=\"suggestion-row\" style=\"float: left;\"><div class=\"suggestion-warning\">Found:</div><div class=\"highlight-code\" id=\"haskell\">{-# LANGUAGE TypeSynonymInstances, FlexibleInstances #-}</div></div><div class=\"suggestion-row\" style=\"float: left;\"><div class=\"suggestion-warning\">Why Not:</div><div class=\"highlight-code\" id=\"haskell\">{-# LANGUAGE FlexibleInstances #-}</div></div>"
      ],
      "text/plain": [
       "Line 2: Unused LANGUAGE pragma\n",
       "Found:\n",
       "{-# LANGUAGE TypeSynonymInstances, FlexibleInstances #-}\n",
       "Why not:\n",
       "{-# LANGUAGE FlexibleInstances #-}"
      ]
     },
     "metadata": {},
     "output_type": "display_data"
    }
   ],
   "source": [
    "{-# LANGUAGE NoMonomorphismRestriction #-}\n",
    "{-# LANGUAGE TypeSynonymInstances, FlexibleInstances #-}"
   ]
  },
  {
   "cell_type": "markdown",
   "metadata": {},
   "source": [
    "#  Interpreters for first-order languages\n",
    "\n",
    "In usual, we prefer infix expressions like"
   ]
  },
  {
   "cell_type": "code",
   "execution_count": 2,
   "metadata": {
    "ExecuteTime": {
     "end_time": "2020-08-22T01:51:10.945855Z",
     "start_time": "2020-08-22T01:51:10.933Z"
    }
   },
   "outputs": [
    {
     "data": {
      "text/plain": [
       "1291"
      ]
     },
     "metadata": {},
     "output_type": "display_data"
    }
   ],
   "source": [
    "1919 - (114 + 514)"
   ]
  },
  {
   "cell_type": "markdown",
   "metadata": {
    "ExecuteTime": {
     "end_time": "2020-08-15T03:30:14.907592Z",
     "start_time": "2020-08-15T03:30:15.410Z"
    }
   },
   "source": [
    "## Initial embedding\n",
    "\n",
    "However, when the *initial* embedding encodes expression as a value of algebraic data type:"
   ]
  },
  {
   "cell_type": "code",
   "execution_count": 3,
   "metadata": {
    "ExecuteTime": {
     "end_time": "2020-08-22T01:51:11.074665Z",
     "start_time": "2020-08-22T01:51:10.958Z"
    }
   },
   "outputs": [],
   "source": [
    "data Exp = Lit Int\n",
    "    | Neg Exp\n",
    "    | Add Exp Exp"
   ]
  },
  {
   "cell_type": "markdown",
   "metadata": {},
   "source": [
    "The expression above is rewritten with such a prefix notation (sometimes also known as *Polish notation*):"
   ]
  },
  {
   "cell_type": "code",
   "execution_count": 4,
   "metadata": {
    "ExecuteTime": {
     "end_time": "2020-08-22T01:51:11.203304Z",
     "start_time": "2020-08-22T01:51:10.977Z"
    }
   },
   "outputs": [],
   "source": [
    "x :: Exp\n",
    "x = Add (Lit 1919) (Neg (Add (Lit 114) (Lit 514)))"
   ]
  },
  {
   "cell_type": "markdown",
   "metadata": {},
   "source": [
    "We know the evaluation should be equal to the following prefix expression in Haskell:"
   ]
  },
  {
   "cell_type": "code",
   "execution_count": 5,
   "metadata": {
    "ExecuteTime": {
     "end_time": "2020-08-22T01:51:11.447105Z",
     "start_time": "2020-08-22T01:51:10.997Z"
    }
   },
   "outputs": [
    {
     "data": {
      "text/plain": [
       "1291"
      ]
     },
     "metadata": {},
     "output_type": "display_data"
    }
   ],
   "source": [
    "(+) 1919 (negate ((+) 114 514))"
   ]
  },
  {
   "cell_type": "markdown",
   "metadata": {},
   "source": [
    "### Eval\n",
    "\n",
    "Then, we create the first interpreter, *evaluator*, which interprets expression by case analysis, in other words, *pattern matching*:"
   ]
  },
  {
   "cell_type": "code",
   "execution_count": 6,
   "metadata": {
    "ExecuteTime": {
     "end_time": "2020-08-22T01:51:11.578246Z",
     "start_time": "2020-08-22T01:51:11.018Z"
    }
   },
   "outputs": [],
   "source": [
    "eval:: Exp -> Int\n",
    "eval (Lit n)     = n\n",
    "eval (Neg e)     = - eval e\n",
    "eval (Add e1 e2) = eval e1 + eval e2"
   ]
  },
  {
   "cell_type": "markdown",
   "metadata": {},
   "source": [
    "Let's eval `x` above:"
   ]
  },
  {
   "cell_type": "code",
   "execution_count": 7,
   "metadata": {
    "ExecuteTime": {
     "end_time": "2020-08-22T01:51:11.820438Z",
     "start_time": "2020-08-22T01:51:11.040Z"
    }
   },
   "outputs": [
    {
     "data": {
      "text/plain": [
       "1291"
      ]
     },
     "metadata": {},
     "output_type": "display_data"
    }
   ],
   "source": [
    "eval x"
   ]
  },
  {
   "cell_type": "markdown",
   "metadata": {},
   "source": [
    "## Final Embedding\n",
    "\n",
    "We can embed expressions in a different way:\n",
    "\n",
    "First, we introduce a representation type for an expression. In the case of `eval`, since the calculation result `Int`, the type used to represent it should also be defined as:"
   ]
  },
  {
   "cell_type": "code",
   "execution_count": 8,
   "metadata": {
    "ExecuteTime": {
     "end_time": "2020-08-22T01:51:11.945675Z",
     "start_time": "2020-08-22T01:51:11.059Z"
    }
   },
   "outputs": [],
   "source": [
    "type Repr = Int"
   ]
  },
  {
   "cell_type": "markdown",
   "metadata": {},
   "source": [
    "Now, use `Repr` as the *target* type for evaluation process, we can directly consider expressions as functions:"
   ]
  },
  {
   "cell_type": "code",
   "execution_count": 9,
   "metadata": {
    "ExecuteTime": {
     "end_time": "2020-08-22T01:51:12.075403Z",
     "start_time": "2020-08-22T01:51:11.077Z"
    }
   },
   "outputs": [],
   "source": [
    "lit :: Int -> Repr\n",
    "lit n = n\n",
    "\n",
    "neg :: Repr -> Repr\n",
    "neg e = - e\n",
    "\n",
    "add :: Repr -> Repr -> Repr\n",
    "add e1 e2 = e1 + e2"
   ]
  },
  {
   "cell_type": "markdown",
   "metadata": {},
   "source": [
    "Functions are *compositional*. We can construct an expression represented by those functions and it will be immediately evaluated:"
   ]
  },
  {
   "cell_type": "code",
   "execution_count": 10,
   "metadata": {
    "ExecuteTime": {
     "end_time": "2020-08-22T01:51:12.320477Z",
     "start_time": "2020-08-22T01:51:11.097Z"
    }
   },
   "outputs": [
    {
     "data": {
      "text/plain": [
       "1291"
      ]
     },
     "metadata": {},
     "output_type": "display_data"
    }
   ],
   "source": [
    "add (lit 1919) (neg (add (lit 114) (lit 514)))"
   ]
  },
  {
   "cell_type": "markdown",
   "metadata": {},
   "source": [
    "We call this metacircular embedding a *final embedding*, which is dual to *initial embedding*."
   ]
  },
  {
   "cell_type": "markdown",
   "metadata": {},
   "source": [
    "### Pretty Print\n",
    "\n",
    "But when it comes to adding another interpretor, for example, *pretty-printer* to the language, initial embedding seems more *scalable*: we just need to write a new function in which applies new patch-matching process."
   ]
  },
  {
   "cell_type": "code",
   "execution_count": 11,
   "metadata": {
    "ExecuteTime": {
     "end_time": "2020-08-22T01:51:12.451496Z",
     "start_time": "2020-08-22T01:51:11.134Z"
    }
   },
   "outputs": [],
   "source": [
    "view:: Exp -> String\n",
    "view (Lit n) = show n\n",
    "view (Neg e) = \"(-\" ++ view e ++ \")\"\n",
    "view (Add e1 e2) = \"(\" ++ view e1 ++ \" + \" ++ view e2 ++ \")\""
   ]
  },
  {
   "cell_type": "code",
   "execution_count": 12,
   "metadata": {
    "ExecuteTime": {
     "end_time": "2020-08-22T01:51:12.693510Z",
     "start_time": "2020-08-22T01:51:11.135Z"
    }
   },
   "outputs": [
    {
     "data": {
      "text/plain": [
       "\"(1919 + (-(114 + 514)))\""
      ]
     },
     "metadata": {},
     "output_type": "display_data"
    }
   ],
   "source": [
    "view x"
   ]
  },
  {
   "cell_type": "markdown",
   "metadata": {},
   "source": [
    "The `view` interpreter 'evaluates' expressions in a very similar way to `eval`, except that the type of final results is `String` instead of `Int`.\n",
    "\n",
    "In the final embedding, the evaluator interpreter is hardwired into an expression, which indicates it is impossible to interpret the expression in another way rather that `eval`.\n",
    "\n",
    "We want the final embedding to support for multiple interpreters as well. One solution offered by Haskell is to write a [*type class*](https://www.haskell.org/tutorial/classes.html) that enables such a parametrization for final result type. \n",
    "\n",
    "We define a type class `ExpSYM`, in which every instance `repr` (i.e. final result type of an interpreter) should has the following properties (in this case, can be involved in those 3 functions):"
   ]
  },
  {
   "cell_type": "code",
   "execution_count": 13,
   "metadata": {
    "ExecuteTime": {
     "end_time": "2020-08-22T01:51:12.822885Z",
     "start_time": "2020-08-22T01:51:11.154Z"
    }
   },
   "outputs": [],
   "source": [
    "class ExpSYM repr where\n",
    "    lit :: Int -> repr\n",
    "    neg :: repr -> repr\n",
    "    add :: repr -> repr -> repr"
   ]
  },
  {
   "cell_type": "markdown",
   "metadata": {},
   "source": [
    "In the case of `eval`, the result type is `Int`. So we will specify the how to implement`ExpSYM` instance for `Int` type:"
   ]
  },
  {
   "cell_type": "code",
   "execution_count": 14,
   "metadata": {
    "ExecuteTime": {
     "end_time": "2020-08-22T01:51:13.025293Z",
     "start_time": "2020-08-22T01:51:11.172Z"
    }
   },
   "outputs": [],
   "source": [
    "instance ExpSYM Int where\n",
    "    lit n = n\n",
    "    neg e = - e\n",
    "    add e1 e2 = e1 + e2"
   ]
  },
  {
   "cell_type": "markdown",
   "metadata": {},
   "source": [
    "To map the result type `Int` to actual Haskell `Int` type (alright, it sounds awkward), we define `eval` function as:"
   ]
  },
  {
   "cell_type": "code",
   "execution_count": 15,
   "metadata": {
    "ExecuteTime": {
     "end_time": "2020-08-22T01:51:13.155374Z",
     "start_time": "2020-08-22T01:51:11.189Z"
    }
   },
   "outputs": [],
   "source": [
    "eval :: Int -> Int\n",
    "eval = id"
   ]
  },
  {
   "cell_type": "markdown",
   "metadata": {},
   "source": [
    "Then we can `eval` the expression above:"
   ]
  },
  {
   "cell_type": "code",
   "execution_count": 16,
   "metadata": {
    "ExecuteTime": {
     "end_time": "2020-08-22T01:51:13.399346Z",
     "start_time": "2020-08-22T01:51:11.223Z"
    }
   },
   "outputs": [
    {
     "data": {
      "text/plain": [
       "1291"
      ]
     },
     "metadata": {},
     "output_type": "display_data"
    }
   ],
   "source": [
    "eval $ add (lit 1919) (neg (add (lit 114) (lit 514)))"
   ]
  },
  {
   "cell_type": "markdown",
   "metadata": {},
   "source": [
    "A finally-encoded expression can have multiple ways to interpret. `eval` specifies one of them.\n",
    "\n",
    "Unlike the initial interpreter:\n",
    "\n",
    "```hs\n",
    "eval :: Exp -> Int\n",
    "```\n",
    "\n",
    "Our final interpreter uses no pattern-matching. It means no syntax-dispatch overhead, which is similar to [threaded code](https://www.complang.tuwien.ac.at/forth/threaded-code.html) in some way.\n",
    "\n",
    "`SYM` in `ExpSYM` (name of our type class) stands for *symantics*: the type class defines the syntax about how an expression is embedded (expression form), while an type instance specifies how to interpret the expression.\n",
    "\n",
    "Now, adding more interpreters for an expression is possible: we may interpret it as a `String`, then we need to implement a pretty-printer as:"
   ]
  },
  {
   "cell_type": "code",
   "execution_count": 17,
   "metadata": {
    "ExecuteTime": {
     "end_time": "2020-08-22T01:51:13.529038Z",
     "start_time": "2020-08-22T01:51:11.228Z"
    }
   },
   "outputs": [],
   "source": [
    "instance ExpSYM String where\n",
    "    lit = show\n",
    "    neg e = \"(-\" ++ e ++ \")\"\n",
    "    add e1 e2 = \"(\" ++ e1 ++ \" + \" ++ e2 ++ \")\""
   ]
  },
  {
   "cell_type": "code",
   "execution_count": 18,
   "metadata": {
    "ExecuteTime": {
     "end_time": "2020-08-22T01:51:13.655037Z",
     "start_time": "2020-08-22T01:51:11.231Z"
    }
   },
   "outputs": [],
   "source": [
    "view :: String -> String\n",
    "view = id"
   ]
  },
  {
   "cell_type": "code",
   "execution_count": 19,
   "metadata": {
    "ExecuteTime": {
     "end_time": "2020-08-22T01:51:13.900133Z",
     "start_time": "2020-08-22T01:51:11.235Z"
    }
   },
   "outputs": [
    {
     "data": {
      "text/plain": [
       "\"(1919 + (-(114 + 514)))\""
      ]
     },
     "metadata": {},
     "output_type": "display_data"
    }
   ],
   "source": [
    "view $ add (lit 1919) (neg (add (lit 114) (lit 514)))"
   ]
  },
  {
   "cell_type": "markdown",
   "metadata": {},
   "source": [
    "In the initial embedding, expressions (`Exp`) and interpreters (functions like `eval`,`view`) are totally ordinary and monomophic values, which are certainly first-class elements.\n",
    "\n",
    "So we can store all expressions into one `List[Exp]` as:"
   ]
  },
  {
   "cell_type": "code",
   "execution_count": 20,
   "metadata": {
    "ExecuteTime": {
     "end_time": "2020-08-22T01:51:14.028396Z",
     "start_time": "2020-08-22T01:51:11.264Z"
    }
   },
   "outputs": [],
   "source": [
    "lst :: [Exp]\n",
    "lst = [Lit 114, Lit 514, Add (Lit 114) (Lit 514)]"
   ]
  },
  {
   "cell_type": "markdown",
   "metadata": {},
   "source": [
    "So we can apply an interpreter on all of them using `fmap` like (we rename `eval` as `eval2`, for that `eval` for `Exp` is already redefined for `ExpSYM` above):"
   ]
  },
  {
   "cell_type": "code",
   "execution_count": 21,
   "metadata": {
    "ExecuteTime": {
     "end_time": "2020-08-22T01:51:14.276275Z",
     "start_time": "2020-08-22T01:51:11.288Z"
    }
   },
   "outputs": [
    {
     "data": {
      "text/plain": [
       "[114,514,628]"
      ]
     },
     "metadata": {},
     "output_type": "display_data"
    }
   ],
   "source": [
    "eval2:: Exp -> Int\n",
    "eval2 (Lit n)     = n\n",
    "eval2 (Neg e)     = - eval2 e\n",
    "eval2 (Add e1 e2) = eval2 e1 + eval2 e2\n",
    "\n",
    "fmap eval2 lst"
   ]
  },
  {
   "cell_type": "markdown",
   "metadata": {},
   "source": [
    "Meanwhile, it seems impossible in the final embedding, in which expressions are polymorphic.\n",
    "\n",
    "Those polymorphic expressions are not totally first-class: **storing them in data structures or passing them as arguments may cause the loss of polymorphism.**\n",
    "\n",
    "Although sometimes it doesn't matter, for example, they can be collected in one list:"
   ]
  },
  {
   "cell_type": "code",
   "execution_count": 22,
   "metadata": {
    "ExecuteTime": {
     "end_time": "2020-08-22T01:51:14.407097Z",
     "start_time": "2020-08-22T01:51:11.310Z"
    },
    "scrolled": true
   },
   "outputs": [
    {
     "data": {
      "text/html": [
       "<style>/* Styles used for the Hoogle display in the pager */\n",
       ".hoogle-doc {\n",
       "display: block;\n",
       "padding-bottom: 1.3em;\n",
       "padding-left: 0.4em;\n",
       "}\n",
       ".hoogle-code {\n",
       "display: block;\n",
       "font-family: monospace;\n",
       "white-space: pre;\n",
       "}\n",
       ".hoogle-text {\n",
       "display: block;\n",
       "}\n",
       ".hoogle-name {\n",
       "color: green;\n",
       "font-weight: bold;\n",
       "}\n",
       ".hoogle-head {\n",
       "font-weight: bold;\n",
       "}\n",
       ".hoogle-sub {\n",
       "display: block;\n",
       "margin-left: 0.4em;\n",
       "}\n",
       ".hoogle-package {\n",
       "font-weight: bold;\n",
       "font-style: italic;\n",
       "}\n",
       ".hoogle-module {\n",
       "font-weight: bold;\n",
       "}\n",
       ".hoogle-class {\n",
       "font-weight: bold;\n",
       "}\n",
       ".get-type {\n",
       "color: green;\n",
       "font-weight: bold;\n",
       "font-family: monospace;\n",
       "display: block;\n",
       "white-space: pre-wrap;\n",
       "}\n",
       ".show-type {\n",
       "color: green;\n",
       "font-weight: bold;\n",
       "font-family: monospace;\n",
       "margin-left: 1em;\n",
       "}\n",
       ".mono {\n",
       "font-family: monospace;\n",
       "display: block;\n",
       "}\n",
       ".err-msg {\n",
       "color: red;\n",
       "font-style: italic;\n",
       "font-family: monospace;\n",
       "white-space: pre;\n",
       "display: block;\n",
       "}\n",
       "#unshowable {\n",
       "color: red;\n",
       "font-weight: bold;\n",
       "}\n",
       ".err-msg.in.collapse {\n",
       "padding-top: 0.7em;\n",
       "}\n",
       ".highlight-code {\n",
       "white-space: pre;\n",
       "font-family: monospace;\n",
       "}\n",
       ".suggestion-warning { \n",
       "font-weight: bold;\n",
       "color: rgb(200, 130, 0);\n",
       "}\n",
       ".suggestion-error { \n",
       "font-weight: bold;\n",
       "color: red;\n",
       "}\n",
       ".suggestion-name {\n",
       "font-weight: bold;\n",
       "}\n",
       "</style><div class=\"suggestion-name\" style=\"clear:both;\">Use camelCase</div><div class=\"suggestion-row\" style=\"float: left;\"><div class=\"suggestion-warning\">Found:</div><div class=\"highlight-code\" id=\"haskell\">lst_sym = ...</div></div><div class=\"suggestion-row\" style=\"float: left;\"><div class=\"suggestion-warning\">Why Not:</div><div class=\"highlight-code\" id=\"haskell\">lstSym = ...</div></div>"
      ],
      "text/plain": [
       "Line 1: Use camelCase\n",
       "Found:\n",
       "lst_sym = ...\n",
       "Why not:\n",
       "lstSym = ..."
      ]
     },
     "metadata": {},
     "output_type": "display_data"
    }
   ],
   "source": [
    "lst_sym = [lit 114, lit 514, add (lit 114) (lit 514)]"
   ]
  },
  {
   "cell_type": "markdown",
   "metadata": {},
   "source": [
    "The type of `lst_sym` still cannot be exactly determined, all we can infer from it is that the list consists of type that satisfies `ExpSYM`. It means that polymorphism remains here."
   ]
  },
  {
   "cell_type": "code",
   "execution_count": 23,
   "metadata": {
    "ExecuteTime": {
     "end_time": "2020-08-22T01:51:14.533872Z",
     "start_time": "2020-08-22T01:51:11.333Z"
    }
   },
   "outputs": [
    {
     "data": {
      "text/html": [
       "<style>/* Styles used for the Hoogle display in the pager */\n",
       ".hoogle-doc {\n",
       "display: block;\n",
       "padding-bottom: 1.3em;\n",
       "padding-left: 0.4em;\n",
       "}\n",
       ".hoogle-code {\n",
       "display: block;\n",
       "font-family: monospace;\n",
       "white-space: pre;\n",
       "}\n",
       ".hoogle-text {\n",
       "display: block;\n",
       "}\n",
       ".hoogle-name {\n",
       "color: green;\n",
       "font-weight: bold;\n",
       "}\n",
       ".hoogle-head {\n",
       "font-weight: bold;\n",
       "}\n",
       ".hoogle-sub {\n",
       "display: block;\n",
       "margin-left: 0.4em;\n",
       "}\n",
       ".hoogle-package {\n",
       "font-weight: bold;\n",
       "font-style: italic;\n",
       "}\n",
       ".hoogle-module {\n",
       "font-weight: bold;\n",
       "}\n",
       ".hoogle-class {\n",
       "font-weight: bold;\n",
       "}\n",
       ".get-type {\n",
       "color: green;\n",
       "font-weight: bold;\n",
       "font-family: monospace;\n",
       "display: block;\n",
       "white-space: pre-wrap;\n",
       "}\n",
       ".show-type {\n",
       "color: green;\n",
       "font-weight: bold;\n",
       "font-family: monospace;\n",
       "margin-left: 1em;\n",
       "}\n",
       ".mono {\n",
       "font-family: monospace;\n",
       "display: block;\n",
       "}\n",
       ".err-msg {\n",
       "color: red;\n",
       "font-style: italic;\n",
       "font-family: monospace;\n",
       "white-space: pre;\n",
       "display: block;\n",
       "}\n",
       "#unshowable {\n",
       "color: red;\n",
       "font-weight: bold;\n",
       "}\n",
       ".err-msg.in.collapse {\n",
       "padding-top: 0.7em;\n",
       "}\n",
       ".highlight-code {\n",
       "white-space: pre;\n",
       "font-family: monospace;\n",
       "}\n",
       ".suggestion-warning { \n",
       "font-weight: bold;\n",
       "color: rgb(200, 130, 0);\n",
       "}\n",
       ".suggestion-error { \n",
       "font-weight: bold;\n",
       "color: red;\n",
       "}\n",
       ".suggestion-name {\n",
       "font-weight: bold;\n",
       "}\n",
       "</style><span class='get-type'>lst_sym :: forall a. ExpSYM a => [a]</span>"
      ],
      "text/plain": [
       "lst_sym :: forall a. ExpSYM a => [a]"
      ]
     },
     "metadata": {},
     "output_type": "display_data"
    }
   ],
   "source": [
    ":type lst_sym"
   ]
  },
  {
   "cell_type": "markdown",
   "metadata": {},
   "source": [
    "And then `fmap` on it:"
   ]
  },
  {
   "cell_type": "code",
   "execution_count": 24,
   "metadata": {
    "ExecuteTime": {
     "end_time": "2020-08-22T01:51:14.776948Z",
     "start_time": "2020-08-22T01:51:11.365Z"
    }
   },
   "outputs": [
    {
     "data": {
      "text/plain": [
       "[114,514,628]"
      ]
     },
     "metadata": {},
     "output_type": "display_data"
    }
   ],
   "source": [
    "fmap eval lst_sym"
   ]
  },
  {
   "cell_type": "markdown",
   "metadata": {},
   "source": [
    "It resembles the method that specifies the type of a polymorphic value, since `eval` is defined as a simple `id` function for `ExpSYM` class:"
   ]
  },
  {
   "cell_type": "code",
   "execution_count": 25,
   "metadata": {
    "ExecuteTime": {
     "end_time": "2020-08-22T01:51:15.019579Z",
     "start_time": "2020-08-22T01:51:11.382Z"
    }
   },
   "outputs": [
    {
     "data": {
      "text/plain": [
       "[114,514,628]"
      ]
     },
     "metadata": {},
     "output_type": "display_data"
    }
   ],
   "source": [
    "[lit 114, lit 514, add (lit 114) (lit 514)]::[Int]"
   ]
  },
  {
   "cell_type": "markdown",
   "metadata": {},
   "source": [
    "Apply another interpreter:"
   ]
  },
  {
   "cell_type": "code",
   "execution_count": 26,
   "metadata": {
    "ExecuteTime": {
     "end_time": "2020-08-22T01:51:15.265539Z",
     "start_time": "2020-08-22T01:51:11.401Z"
    }
   },
   "outputs": [
    {
     "data": {
      "text/plain": [
       "[\"114\",\"514\",\"(114 + 514)\"]"
      ]
     },
     "metadata": {},
     "output_type": "display_data"
    }
   ],
   "source": [
    "fmap view lst_sym"
   ]
  },
  {
   "cell_type": "markdown",
   "metadata": {},
   "source": [
    "# Extend the languages\n",
    "\n",
    "## Add a new interpreter\n",
    "\n",
    "The approaches of adding new interpreters to the languages have be demonstrated above.\n",
    "\n",
    "## Add  a new syntactic form for expressions\n",
    "\n",
    "If we want to extend the languages with new syntax, for example, multiplication operation:\n",
    "\n",
    "### Initial style\n",
    "\n",
    "As we defined the expression as an algebraic data type before\n",
    "\n",
    "```hs\n",
    "data Exp = Lit Int\n",
    "    | Neg Exp\n",
    "    | Add Exp Exp\n",
    "```\n",
    "\n",
    "To add a new form, we need to append the new variant to the data type:"
   ]
  },
  {
   "cell_type": "code",
   "execution_count": 27,
   "metadata": {
    "ExecuteTime": {
     "end_time": "2020-08-22T01:51:15.394235Z",
     "start_time": "2020-08-22T01:51:11.405Z"
    }
   },
   "outputs": [],
   "source": [
    "data Exp = Lit Int\n",
    "    | Neg Exp\n",
    "    | Add Exp Exp\n",
    "    | Mul Exp Exp"
   ]
  },
  {
   "cell_type": "markdown",
   "metadata": {},
   "source": [
    "We have to re-declare the definition of data type `Exp`, which forces us to adjust or at least re-compile all the codes that directly or indirectly refers to the declaration.\n",
    "\n",
    "In the basic functional programming languages, it is easy to add new operations on data (i.e. using new-defined functions to interpret expressions in new ways) but hard to add new variants.\n",
    "\n",
    "That is what frequently discussed in [*the expression problem*](https://en.wikipedia.org/wiki/Expression_problem).\n",
    "\n",
    "Now, we start to look at how to add multiplication form in the final encoding.\n",
    "\n",
    "### Final style"
   ]
  },
  {
   "cell_type": "markdown",
   "metadata": {},
   "source": [
    "Suppose that `ExpSYM` and its two instances are placed inside an independent (already compiled) module called `F` (located in [ExpSYM.hs](./ExpSYM.hs))"
   ]
  },
  {
   "cell_type": "code",
   "execution_count": 28,
   "metadata": {
    "ExecuteTime": {
     "end_time": "2020-08-22T01:51:15.605159Z",
     "start_time": "2020-08-22T01:51:11.440Z"
    }
   },
   "outputs": [],
   "source": [
    ":l ExpSYM\n",
    "import ExpSYM as F"
   ]
  },
  {
   "cell_type": "markdown",
   "metadata": {},
   "source": [
    "We now want to add multiplication syntax in current module. We only need to define a new type class as:"
   ]
  },
  {
   "cell_type": "code",
   "execution_count": 29,
   "metadata": {
    "ExecuteTime": {
     "end_time": "2020-08-22T01:51:15.734472Z",
     "start_time": "2020-08-22T01:51:11.457Z"
    }
   },
   "outputs": [],
   "source": [
    "class MulSYM repr where \n",
    "    mul :: repr -> repr -> repr"
   ]
  },
  {
   "cell_type": "markdown",
   "metadata": {},
   "source": [
    "Extend language terms:"
   ]
  },
  {
   "cell_type": "code",
   "execution_count": 30,
   "metadata": {
    "ExecuteTime": {
     "end_time": "2020-08-22T01:51:15.862027Z",
     "start_time": "2020-08-22T01:51:11.477Z"
    }
   },
   "outputs": [],
   "source": [
    "y = mul (lit 364) F.x"
   ]
  },
  {
   "cell_type": "markdown",
   "metadata": {},
   "source": [
    "Now, we can infer that `y` should be a variable of a type instance that satisfies both 2 type classes."
   ]
  },
  {
   "cell_type": "code",
   "execution_count": 31,
   "metadata": {
    "ExecuteTime": {
     "end_time": "2020-08-22T01:51:15.988118Z",
     "start_time": "2020-08-22T01:51:11.497Z"
    }
   },
   "outputs": [
    {
     "data": {
      "text/html": [
       "<style>/* Styles used for the Hoogle display in the pager */\n",
       ".hoogle-doc {\n",
       "display: block;\n",
       "padding-bottom: 1.3em;\n",
       "padding-left: 0.4em;\n",
       "}\n",
       ".hoogle-code {\n",
       "display: block;\n",
       "font-family: monospace;\n",
       "white-space: pre;\n",
       "}\n",
       ".hoogle-text {\n",
       "display: block;\n",
       "}\n",
       ".hoogle-name {\n",
       "color: green;\n",
       "font-weight: bold;\n",
       "}\n",
       ".hoogle-head {\n",
       "font-weight: bold;\n",
       "}\n",
       ".hoogle-sub {\n",
       "display: block;\n",
       "margin-left: 0.4em;\n",
       "}\n",
       ".hoogle-package {\n",
       "font-weight: bold;\n",
       "font-style: italic;\n",
       "}\n",
       ".hoogle-module {\n",
       "font-weight: bold;\n",
       "}\n",
       ".hoogle-class {\n",
       "font-weight: bold;\n",
       "}\n",
       ".get-type {\n",
       "color: green;\n",
       "font-weight: bold;\n",
       "font-family: monospace;\n",
       "display: block;\n",
       "white-space: pre-wrap;\n",
       "}\n",
       ".show-type {\n",
       "color: green;\n",
       "font-weight: bold;\n",
       "font-family: monospace;\n",
       "margin-left: 1em;\n",
       "}\n",
       ".mono {\n",
       "font-family: monospace;\n",
       "display: block;\n",
       "}\n",
       ".err-msg {\n",
       "color: red;\n",
       "font-style: italic;\n",
       "font-family: monospace;\n",
       "white-space: pre;\n",
       "display: block;\n",
       "}\n",
       "#unshowable {\n",
       "color: red;\n",
       "font-weight: bold;\n",
       "}\n",
       ".err-msg.in.collapse {\n",
       "padding-top: 0.7em;\n",
       "}\n",
       ".highlight-code {\n",
       "white-space: pre;\n",
       "font-family: monospace;\n",
       "}\n",
       ".suggestion-warning { \n",
       "font-weight: bold;\n",
       "color: rgb(200, 130, 0);\n",
       "}\n",
       ".suggestion-error { \n",
       "font-weight: bold;\n",
       "color: red;\n",
       "}\n",
       ".suggestion-name {\n",
       "font-weight: bold;\n",
       "}\n",
       "</style><span class='get-type'>y :: forall repr. (MulSYM repr, ExpSYM repr) => repr</span>"
      ],
      "text/plain": [
       "y :: forall repr. (MulSYM repr, ExpSYM repr) => repr"
      ]
     },
     "metadata": {},
     "output_type": "display_data"
    }
   ],
   "source": [
    ":type y"
   ]
  },
  {
   "cell_type": "markdown",
   "metadata": {},
   "source": [
    "To extend the two existing interpreters, we don't need to touch anything in module `F`, including the definitions of `eval` and `view` themselves. \n",
    "\n",
    "We are going to define the meaning of `mul` in the semantic domains of type `Int` and `String`:"
   ]
  },
  {
   "cell_type": "code",
   "execution_count": 32,
   "metadata": {
    "ExecuteTime": {
     "end_time": "2020-08-22T01:51:16.117688Z",
     "start_time": "2020-08-22T01:51:11.516Z"
    }
   },
   "outputs": [],
   "source": [
    "instance MulSYM Int where\n",
    "    mul e1 e2 = e1 * e2\n",
    "    \n",
    "instance MulSYM String where\n",
    "    mul e1 e2 = \"(\" ++ e1 ++ \" * \" ++ e2 ++ \")\""
   ]
  },
  {
   "cell_type": "markdown",
   "metadata": {},
   "source": [
    "That is all."
   ]
  },
  {
   "cell_type": "code",
   "execution_count": 33,
   "metadata": {
    "ExecuteTime": {
     "end_time": "2020-08-22T01:51:16.358550Z",
     "start_time": "2020-08-22T01:51:11.537Z"
    }
   },
   "outputs": [
    {
     "data": {
      "text/plain": [
       "469924"
      ]
     },
     "metadata": {},
     "output_type": "display_data"
    }
   ],
   "source": [
    "eval y"
   ]
  },
  {
   "cell_type": "code",
   "execution_count": 34,
   "metadata": {
    "ExecuteTime": {
     "end_time": "2020-08-22T01:51:16.599675Z",
     "start_time": "2020-08-22T01:51:11.539Z"
    }
   },
   "outputs": [
    {
     "data": {
      "text/plain": [
       "\"(364 * (1919 + (-(114 + 514))))\""
      ]
     },
     "metadata": {},
     "output_type": "display_data"
    }
   ],
   "source": [
    "view y"
   ]
  },
  {
   "cell_type": "code",
   "execution_count": null,
   "metadata": {},
   "outputs": [],
   "source": []
  }
 ],
 "metadata": {
  "kernelspec": {
   "display_name": "Haskell",
   "language": "haskell",
   "name": "haskell"
  },
  "language_info": {
   "codemirror_mode": "ihaskell",
   "file_extension": ".hs",
   "name": "haskell",
   "pygments_lexer": "Haskell",
   "version": "8.6.5"
  },
  "latex_envs": {
   "LaTeX_envs_menu_present": true,
   "autoclose": false,
   "autocomplete": true,
   "bibliofile": "biblio.bib",
   "cite_by": "apalike",
   "current_citInitial": 1,
   "eqLabelWithNumbers": true,
   "eqNumInitial": 1,
   "hotkeys": {
    "equation": "Ctrl-E",
    "itemize": "Ctrl-I"
   },
   "labels_anchors": false,
   "latex_user_defs": false,
   "report_style_numbering": false,
   "user_envs_cfg": false
  },
  "toc": {
   "base_numbering": 1,
   "nav_menu": {},
   "number_sections": true,
   "sideBar": true,
   "skip_h1_title": false,
   "title_cell": "Table of Contents",
   "title_sidebar": "Contents",
   "toc_cell": false,
   "toc_position": {},
   "toc_section_display": true,
   "toc_window_display": true
  },
  "varInspector": {
   "cols": {
    "lenName": 16,
    "lenType": 16,
    "lenVar": 40
   },
   "kernels_config": {
    "python": {
     "delete_cmd_postfix": "",
     "delete_cmd_prefix": "del ",
     "library": "var_list.py",
     "varRefreshCmd": "print(var_dic_list())"
    },
    "r": {
     "delete_cmd_postfix": ") ",
     "delete_cmd_prefix": "rm(",
     "library": "var_list.r",
     "varRefreshCmd": "cat(var_dic_list()) "
    }
   },
   "types_to_exclude": [
    "module",
    "function",
    "builtin_function_or_method",
    "instance",
    "_Feature"
   ],
   "window_display": false
  }
 },
 "nbformat": 4,
 "nbformat_minor": 4
}
