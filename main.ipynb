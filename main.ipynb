{
 "cells": [
  {
   "cell_type": "markdown",
   "metadata": {},
   "source": [
    "#  Interpreters for first-order languages\n",
    "\n",
    "In usual, we prefer infix expressions like"
   ]
  },
  {
   "cell_type": "code",
   "execution_count": 1,
   "metadata": {
    "ExecuteTime": {
     "end_time": "2020-08-15T03:15:22.801021Z",
     "start_time": "2020-08-15T03:15:21.547Z"
    }
   },
   "outputs": [
    {
     "data": {
      "text/plain": [
       "1291"
      ]
     },
     "metadata": {},
     "output_type": "display_data"
    }
   ],
   "source": [
    "1919 - (114 + 514)"
   ]
  },
  {
   "cell_type": "markdown",
   "metadata": {
    "ExecuteTime": {
     "end_time": "2020-08-15T03:30:14.907592Z",
     "start_time": "2020-08-15T03:30:15.410Z"
    }
   },
   "source": [
    "## Initial embedding\n",
    "\n",
    "However, when the *initial* embedding encodes expression as a value of algebraic data type:"
   ]
  },
  {
   "cell_type": "code",
   "execution_count": 9,
   "metadata": {
    "ExecuteTime": {
     "end_time": "2020-08-15T03:30:26.693251Z",
     "start_time": "2020-08-15T03:30:27.080Z"
    }
   },
   "outputs": [],
   "source": [
    "data Exp = Lit Int\n",
    "    | Neg Exp\n",
    "    | Add Exp Exp"
   ]
  },
  {
   "cell_type": "markdown",
   "metadata": {},
   "source": [
    "The expression above is rewritten with such a prefix notation (sometimes also known as *Polish notation*):"
   ]
  },
  {
   "cell_type": "code",
   "execution_count": 3,
   "metadata": {
    "ExecuteTime": {
     "end_time": "2020-08-15T03:15:27.294196Z",
     "start_time": "2020-08-15T03:15:27.663Z"
    }
   },
   "outputs": [],
   "source": [
    "x :: Exp\n",
    "x = Add (Lit 1919) (Neg (Add (Lit 114) (Lit 514)))"
   ]
  },
  {
   "cell_type": "markdown",
   "metadata": {},
   "source": [
    "We know the evaluation should be equal to the following prefix expression in Haskell:"
   ]
  },
  {
   "cell_type": "code",
   "execution_count": 4,
   "metadata": {
    "ExecuteTime": {
     "end_time": "2020-08-15T03:15:31.357431Z",
     "start_time": "2020-08-15T03:15:31.613Z"
    }
   },
   "outputs": [
    {
     "data": {
      "text/plain": [
       "1291"
      ]
     },
     "metadata": {},
     "output_type": "display_data"
    }
   ],
   "source": [
    "(+) 1919 (negate ((+) 114 514))"
   ]
  },
  {
   "cell_type": "markdown",
   "metadata": {},
   "source": [
    "### Eval\n",
    "\n",
    "Then, we create the first interpreter, *evaluator*, which interprets expression by case analysis, in other words, *pattern matching*:"
   ]
  },
  {
   "cell_type": "code",
   "execution_count": 5,
   "metadata": {
    "ExecuteTime": {
     "end_time": "2020-08-15T03:26:46.077911Z",
     "start_time": "2020-08-15T03:26:46.444Z"
    }
   },
   "outputs": [],
   "source": [
    "eval:: Exp -> Int\n",
    "eval (Lit n)     = n\n",
    "eval (Neg e)     = - eval e\n",
    "eval (Add e1 e2) = eval e1 + eval e2"
   ]
  },
  {
   "cell_type": "markdown",
   "metadata": {},
   "source": [
    "Let's eval `x` above:"
   ]
  },
  {
   "cell_type": "code",
   "execution_count": 6,
   "metadata": {
    "ExecuteTime": {
     "end_time": "2020-08-15T03:27:35.441211Z",
     "start_time": "2020-08-15T03:27:35.714Z"
    }
   },
   "outputs": [
    {
     "data": {
      "text/plain": [
       "1291"
      ]
     },
     "metadata": {},
     "output_type": "display_data"
    }
   ],
   "source": [
    "eval x"
   ]
  },
  {
   "cell_type": "markdown",
   "metadata": {},
   "source": [
    "## Final Embedding\n",
    "\n",
    "We can embed expressions in a different way:\n",
    "\n",
    "First, we introduce a representation type for an expression. In the case of `eval`, since the calculation result `Int`, the type used to represent it should also be defined as:"
   ]
  },
  {
   "cell_type": "code",
   "execution_count": 10,
   "metadata": {
    "ExecuteTime": {
     "end_time": "2020-08-15T03:46:15.421577Z",
     "start_time": "2020-08-15T03:46:15.816Z"
    }
   },
   "outputs": [],
   "source": [
    "type Repr = Int"
   ]
  },
  {
   "cell_type": "markdown",
   "metadata": {},
   "source": [
    "Now, use `Repr` as the *target* type for evaluation process, we can directly consider expressions as functions:"
   ]
  },
  {
   "cell_type": "code",
   "execution_count": 12,
   "metadata": {
    "ExecuteTime": {
     "end_time": "2020-08-15T03:51:39.483977Z",
     "start_time": "2020-08-15T03:51:39.876Z"
    }
   },
   "outputs": [],
   "source": [
    "lit :: Int -> Repr\n",
    "lit n = n\n",
    "\n",
    "neg :: Repr -> Repr\n",
    "neg e = - e\n",
    "\n",
    "add :: Repr -> Repr -> Repr\n",
    "add e1 e2 = e1 + e2"
   ]
  },
  {
   "cell_type": "markdown",
   "metadata": {},
   "source": [
    "Functions are *compositional*. We can construct an expression represented by those functions and it will be immediately evaluated:"
   ]
  },
  {
   "cell_type": "code",
   "execution_count": 14,
   "metadata": {
    "ExecuteTime": {
     "end_time": "2020-08-15T03:52:58.636085Z",
     "start_time": "2020-08-15T03:52:58.919Z"
    }
   },
   "outputs": [
    {
     "data": {
      "text/plain": [
       "1291"
      ]
     },
     "metadata": {},
     "output_type": "display_data"
    }
   ],
   "source": [
    "add (lit 1919) (neg (add (lit 114) (lit 514)))"
   ]
  },
  {
   "cell_type": "code",
   "execution_count": null,
   "metadata": {},
   "outputs": [],
   "source": []
  }
 ],
 "metadata": {
  "kernelspec": {
   "display_name": "Haskell",
   "language": "haskell",
   "name": "haskell"
  },
  "language_info": {
   "codemirror_mode": "ihaskell",
   "file_extension": ".hs",
   "name": "haskell",
   "pygments_lexer": "Haskell",
   "version": "8.6.5"
  },
  "latex_envs": {
   "LaTeX_envs_menu_present": true,
   "autoclose": false,
   "autocomplete": true,
   "bibliofile": "biblio.bib",
   "cite_by": "apalike",
   "current_citInitial": 1,
   "eqLabelWithNumbers": true,
   "eqNumInitial": 1,
   "hotkeys": {
    "equation": "Ctrl-E",
    "itemize": "Ctrl-I"
   },
   "labels_anchors": false,
   "latex_user_defs": false,
   "report_style_numbering": false,
   "user_envs_cfg": false
  },
  "toc": {
   "base_numbering": 1,
   "nav_menu": {},
   "number_sections": true,
   "sideBar": true,
   "skip_h1_title": false,
   "title_cell": "Table of Contents",
   "title_sidebar": "Contents",
   "toc_cell": false,
   "toc_position": {},
   "toc_section_display": true,
   "toc_window_display": false
  },
  "varInspector": {
   "cols": {
    "lenName": 16,
    "lenType": 16,
    "lenVar": 40
   },
   "kernels_config": {
    "python": {
     "delete_cmd_postfix": "",
     "delete_cmd_prefix": "del ",
     "library": "var_list.py",
     "varRefreshCmd": "print(var_dic_list())"
    },
    "r": {
     "delete_cmd_postfix": ") ",
     "delete_cmd_prefix": "rm(",
     "library": "var_list.r",
     "varRefreshCmd": "cat(var_dic_list()) "
    }
   },
   "types_to_exclude": [
    "module",
    "function",
    "builtin_function_or_method",
    "instance",
    "_Feature"
   ],
   "window_display": false
  }
 },
 "nbformat": 4,
 "nbformat_minor": 4
}
